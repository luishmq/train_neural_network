{
 "cells": [
  {
   "cell_type": "markdown",
   "id": "d01df000",
   "metadata": {},
   "source": [
    "# 0.0 Imports"
   ]
  },
  {
   "cell_type": "code",
   "execution_count": 2,
   "id": "5cb913e9",
   "metadata": {
    "ExecuteTime": {
     "end_time": "2023-03-12T18:41:11.132095Z",
     "start_time": "2023-03-12T18:41:11.124715Z"
    }
   },
   "outputs": [],
   "source": [
    "# Importação das bibliotecas\n",
    "from sklearn import datasets\n",
    "from sklearn.model_selection import train_test_split\n",
    "from sklearn.metrics import confusion_matrix\n",
    "from keras.models import Sequential\n",
    "from keras.layers import Dense\n",
    "from keras.utils import np_utils\n",
    "import numpy as np"
   ]
  },
  {
   "cell_type": "markdown",
   "id": "f233f2a5",
   "metadata": {},
   "source": [
    "# 1.0 Loading Data"
   ]
  },
  {
   "cell_type": "code",
   "execution_count": null,
   "id": "980775ad",
   "metadata": {},
   "outputs": [],
   "source": [
    "# Carregamento da base de dados e criação dos previsores (variáveis independentes - X) e da classe (variável dependente - y)\n",
    "base = datasets.load_iris()\n",
    "previsores = base.data\n",
    "classe = base.target\n",
    "classe"
   ]
  },
  {
   "cell_type": "markdown",
   "id": "295a5e5b",
   "metadata": {},
   "source": [
    "# 2.0 Holdout"
   ]
  },
  {
   "cell_type": "code",
   "execution_count": null,
   "id": "866828e1",
   "metadata": {},
   "outputs": [],
   "source": [
    "# Transformação da classe para o formato \"dummy\", pois temos uma rede neural com 3 neurônios na camada de saída\n",
    "classe_dummy = np_utils.to_categorical(classe)\n",
    "classe_dummy\n",
    "\n",
    "# Divisão da base de dados entre treinamento e teste (30% para testar e 70% para treinar)\n",
    "X_treinamento, X_teste, y_treinamento, y_teste = train_test_split(previsores,\n",
    "                                                                  classe_dummy,\n",
    "                                                                  test_size = 0.3,\n",
    "                                                                  random_state = 0)"
   ]
  },
  {
   "cell_type": "markdown",
   "id": "3cadb001",
   "metadata": {},
   "source": [
    "# 3.0 Neural Network architecture"
   ]
  },
  {
   "cell_type": "code",
   "execution_count": null,
   "id": "cb87b464",
   "metadata": {},
   "outputs": [],
   "source": [
    "# Criação da estrutura da rede neural com a classe Sequential (sequência de camadas)\n",
    "modelo = Sequential()\n",
    "\n",
    "#primeira camada oculta, 5 neuronios, 4 neuronios de entrada\n",
    "modelo.add(Dense(units = 5, input_dim = 4))\n",
    "\n",
    "#segunda camada oculta\n",
    "modelo.add(Dense(units = 4))\n",
    "\n",
    "# Função softmax porque temos um problema de classificação com mais de duas classes \n",
    "#(é gerada uma probabilidade em cada neurônio)\n",
    "modelo.add(Dense(units = 3, activation = 'softmax'))"
   ]
  },
  {
   "cell_type": "code",
   "execution_count": null,
   "id": "6a3a54c9",
   "metadata": {},
   "outputs": [],
   "source": [
    "# Visualização da estrutura da rede neural\n",
    "modelo.summary()"
   ]
  },
  {
   "cell_type": "markdown",
   "id": "eb57fd36",
   "metadata": {},
   "source": [
    "# 4.0 Training Data"
   ]
  },
  {
   "cell_type": "code",
   "execution_count": null,
   "id": "7d04d506",
   "metadata": {},
   "outputs": [],
   "source": [
    "# Configuração dos parâmetros da rede neural (adam = algoritmo para atualizar os pesos e loss = cálculo do erro)\n",
    "modelo.compile(optimizer = 'adam', loss = 'categorical_crossentropy',\n",
    "               metrics = ['accuracy'])\n",
    "\n",
    "# Treinamento, dividindo a base de treinamento em uma porção para validação (validation_data)\n",
    "modelo.fit(X_treinamento, y_treinamento, epochs = 1000,\n",
    "           validation_data = (X_teste, y_teste))"
   ]
  },
  {
   "cell_type": "markdown",
   "id": "75be1719",
   "metadata": {},
   "source": [
    "# 5.0 Prediction"
   ]
  },
  {
   "cell_type": "code",
   "execution_count": null,
   "id": "41128bcc",
   "metadata": {},
   "outputs": [],
   "source": [
    "# Previsões e mudar a variável para True ou False de acordo com o threshold 0.5\n",
    "previsoes = modelo.predict(X_teste)\n",
    "previsoes = (previsoes > 0.5)\n",
    "previsoes"
   ]
  },
  {
   "cell_type": "markdown",
   "id": "601ba04f",
   "metadata": {},
   "source": [
    "# 6.0 Confusion Matrix"
   ]
  },
  {
   "cell_type": "code",
   "execution_count": null,
   "id": "0da37b5c",
   "metadata": {},
   "outputs": [],
   "source": [
    "# Como é um problema com três saídas, precisamos buscar a posição que possui o maior valor (são retornados 3 valores)\n",
    "y_teste_matrix = [np.argmax(t) for t in y_teste]\n",
    "y_previsao_matrix = [np.argmax(t) for t in previsoes]\n",
    "\n",
    "# Geração da matriz de confusão\n",
    "confusao = confusion_matrix(y_teste_matrix, y_previsao_matrix)\n",
    "confusao"
   ]
  }
 ],
 "metadata": {
  "kernelspec": {
   "display_name": "Python 3 (ipykernel)",
   "language": "python",
   "name": "python3"
  },
  "language_info": {
   "codemirror_mode": {
    "name": "ipython",
    "version": 3
   },
   "file_extension": ".py",
   "mimetype": "text/x-python",
   "name": "python",
   "nbconvert_exporter": "python",
   "pygments_lexer": "ipython3",
   "version": "3.8.13"
  },
  "varInspector": {
   "cols": {
    "lenName": 16,
    "lenType": 16,
    "lenVar": 40
   },
   "kernels_config": {
    "python": {
     "delete_cmd_postfix": "",
     "delete_cmd_prefix": "del ",
     "library": "var_list.py",
     "varRefreshCmd": "print(var_dic_list())"
    },
    "r": {
     "delete_cmd_postfix": ") ",
     "delete_cmd_prefix": "rm(",
     "library": "var_list.r",
     "varRefreshCmd": "cat(var_dic_list()) "
    }
   },
   "types_to_exclude": [
    "module",
    "function",
    "builtin_function_or_method",
    "instance",
    "_Feature"
   ],
   "window_display": false
  }
 },
 "nbformat": 4,
 "nbformat_minor": 5
}
